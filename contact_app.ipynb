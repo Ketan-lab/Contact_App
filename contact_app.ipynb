{
  "cells": [
    {
      "cell_type": "markdown",
      "metadata": {
        "id": "view-in-github",
        "colab_type": "text"
      },
      "source": [
        "<a href=\"https://colab.research.google.com/github/Ketan-lab/Contact_App/blob/main/contact_app.ipynb\" target=\"_parent\"><img src=\"https://colab.research.google.com/assets/colab-badge.svg\" alt=\"Open In Colab\"/></a>"
      ]
    },
    {
      "cell_type": "markdown",
      "metadata": {
        "id": "W6t21p0mq3lk"
      },
      "source": [
        "# Contact app\n",
        "\n",
        "You have learnt a lot of new things; data structures, string, regex & files. Lets use all our newly acquired knowledge to build a **contact app**, just like the ones in our smartphone.\n",
        "\n",
        "We will not be building a fancy UI, instead we will focus on understanding the programming logic.\n",
        "\n",
        "Lets get started!\n",
        "\n",
        "Think of all the features that your contact app has . . . !\n",
        "- It can show you all the contact names\n",
        "- You can search for contacts (using name)\n",
        "- You can see all the information associated with the contact\n",
        "- You can delete and update contacts\n",
        "\n",
        "Can you think of anything more ? Our contact app should have at least these features.\n",
        "- The app should show us all the contact names\n",
        "- It should allow us to select a contact and view all the information associated with the contact\n",
        "- It should allow us to update contact info & delete contact\n",
        "- Finally, it should show us all the contact names\n",
        "\n",
        "For every contact, we will store the `name`, `number` & `email`."
      ]
    },
    {
      "cell_type": "markdown",
      "metadata": {
        "id": "DccHJvE3q3ln"
      },
      "source": [
        "### Data Structure\n",
        "The very first thing that we need to decide is \"What data structure to use?\"\n",
        "\n",
        "To store all the contacts, we can use a list of dictionaries; were each dictionary stores the `name`, `number` & `email`  of the contact.\n",
        "\n",
        "Create a list of dictionaries called `contacts` with 3 dummy contacts.  "
      ]
    },
    {
      "cell_type": "code",
      "execution_count": null,
      "metadata": {
        "id": "B4PGGweSq3ln"
      },
      "outputs": [],
      "source": [
        "contacts = [{'name':'ketan','number':9604663983, 'email':'ketantalware@gmail.com'},{'name':'ashvin', \"number\":123456789,'email':'ashivin@gmail.com'}, {'name':'aiadventure', 'number':987654321,'email':'aiadventure@gmail.com'} ]\n"
      ]
    },
    {
      "cell_type": "markdown",
      "metadata": {
        "id": "XoQDfLcyq3lq"
      },
      "source": [
        "### List all contact names\n",
        "Write `show_contacts` function that takes the `contacts` list and prints all the contact names. These names will help us to select the contact later."
      ]
    },
    {
      "cell_type": "code",
      "execution_count": null,
      "metadata": {
        "id": "CEeS6HvGq3lq"
      },
      "outputs": [],
      "source": [
        "def show_contacts(contacts):\n",
        "  for name in contacts:\n",
        "    print(name['name'])"
      ]
    },
    {
      "cell_type": "code",
      "execution_count": null,
      "metadata": {
        "id": "0kJ-ZTUsq3lr",
        "colab": {
          "base_uri": "https://localhost:8080/"
        },
        "outputId": "f33d2aa9-d3d1-4ed2-9b56-b35640975db9"
      },
      "outputs": [
        {
          "output_type": "stream",
          "name": "stdout",
          "text": [
            "ketu\n",
            "ashvin\n",
            "aiadventure\n",
            "raj\n"
          ]
        }
      ],
      "source": [
        "show_contacts(contacts)"
      ]
    },
    {
      "cell_type": "markdown",
      "metadata": {
        "id": "w5c3_Pz4q3lr"
      },
      "source": [
        "### Add a new Contact\n",
        "\n",
        "Write `add_contact` function that takes user input and *adds new contact* dictionary to the existing list of `contacts`."
      ]
    },
    {
      "cell_type": "code",
      "execution_count": null,
      "metadata": {
        "id": "s9SzGgrGq3lr"
      },
      "outputs": [],
      "source": [
        "def add_contact(contacts):\n",
        "  name = input('Enter the name')\n",
        "  number = int(input('Enter the mobile number'))\n",
        "  email = input('Enter the email ID')\n",
        "  new_contact = {\"name\":name, \"number\":number, \"email\":email}\n",
        "  print(new_contact)\n",
        "  contacts.append(new_contact)\n",
        "  print(contacts)"
      ]
    },
    {
      "cell_type": "code",
      "execution_count": null,
      "metadata": {
        "colab": {
          "base_uri": "https://localhost:8080/"
        },
        "id": "QPiiw8CGq3lr",
        "outputId": "1beb17aa-d65b-497f-9205-15f9305dbc31"
      },
      "outputs": [
        {
          "output_type": "stream",
          "name": "stdout",
          "text": [
            "Enter the nameraj\n",
            "Enter the mobile number123\n",
            "Enter the email IDraj@gmail.com\n",
            "{'name': 'raj', 'number': 123, 'email': 'raj@gmail.com'}\n",
            "[{'name': 'ketan', 'number': 9604663983, 'email': 'ketantalware@gmail.com'}, {'name': 'ashvin', 'number': 123456789, 'email': 'ashivin@gmail.com'}, {'name': 'aiadventure', 'number': 987654321, 'email': 'aiadventure@gmail.com'}, {'name': 'raj', 'number': 123, 'email': 'raj@gmail.com'}]\n"
          ]
        }
      ],
      "source": [
        "add_contact(contacts)"
      ]
    },
    {
      "cell_type": "markdown",
      "metadata": {
        "id": "0VuVgWWTq3ls"
      },
      "source": [
        "### Delete Contact\n",
        "\n",
        "Write `delete_contact` function to delete an existing contact by providing `name` of the contact which we want to delete."
      ]
    },
    {
      "cell_type": "code",
      "execution_count": null,
      "metadata": {
        "id": "Fn3Q8BjVq3ls"
      },
      "outputs": [],
      "source": [
        "def delete_contact(name):\n",
        "\n",
        "  for i in range(len(contacts)):\n",
        "    if contacts[i]['name'] == name:\n",
        "      contacts.remove(contacts[i])\n",
        "      return\n",
        "  print(\"Invalid input: Contact not found\")"
      ]
    },
    {
      "cell_type": "code",
      "source": [
        "    # for i, contact in (len(contacts)):\n",
        "    #     if contact['name'] == name:\n",
        "    #         contacts.pop(i)\n",
        "    #         print(f\"Contact '{name}' deleted successfully\")\n",
        "    #         return\n",
        "    # print(\"Invalid input: Contact not found\")"
      ],
      "metadata": {
        "id": "csQxvN0UBouT"
      },
      "execution_count": null,
      "outputs": []
    },
    {
      "cell_type": "code",
      "execution_count": null,
      "metadata": {
        "id": "UXAdjJk9q3ls",
        "colab": {
          "base_uri": "https://localhost:8080/"
        },
        "outputId": "3e3839af-c6b2-49bf-c5a5-5c6ec325209f"
      },
      "outputs": [
        {
          "output_type": "stream",
          "name": "stdout",
          "text": [
            "Invalid input: Contact not found\n"
          ]
        }
      ],
      "source": [
        "delete_contact('aiadventure')"
      ]
    },
    {
      "cell_type": "code",
      "source": [
        "print(contacts)"
      ],
      "metadata": {
        "colab": {
          "base_uri": "https://localhost:8080/"
        },
        "id": "SaABVRRkzfgZ",
        "outputId": "d3d5c727-a0be-4824-92d4-ee2482cfa3a7"
      },
      "execution_count": null,
      "outputs": [
        {
          "output_type": "stream",
          "name": "stdout",
          "text": [
            "[{'name': 'ketan', 'number': 9604663983, 'email': 'ketantalware@gmail.com'}, {'name': 'ashvin', 'number': 123456789, 'email': 'ashivin@gmail.com'}]\n"
          ]
        }
      ]
    },
    {
      "cell_type": "markdown",
      "metadata": {
        "id": "JjhEyHm0q3lt"
      },
      "source": [
        "### Update Contact details\n",
        "\n",
        "Let's write `update_contact` function which will *update contact details* such as `name`, `email` & `number`.\n",
        "The functions should take `contacts` and `name` as arguments. It should also print the newly added contact."
      ]
    },
    {
      "cell_type": "code",
      "execution_count": null,
      "metadata": {
        "id": "8hcCGu1pq3lt"
      },
      "outputs": [],
      "source": [
        "def update_contact(contacts, name):\n",
        "\n",
        "\n",
        "    found = 0  # Flag to track if contact is found\n",
        "\n",
        "    for contact in contacts:\n",
        "        if contact['name'] == name:\n",
        "            print(\"Current details: \", contact)\n",
        "            new_name = input(\"Enter new name (or press Enter to keep the same): \")\n",
        "            new_number = input(\"Enter new number (or press Enter to keep the same): \")\n",
        "            new_email = input(\"Enter new email (or press Enter to keep the same): \")\n",
        "\n",
        "            if new_name:\n",
        "                contact['name'] = new_name\n",
        "            if new_number:\n",
        "                contact['number'] = int(new_number)\n",
        "            if new_email:\n",
        "                contact['email'] = new_email\n",
        "\n",
        "            print('Updated contact', contact)\n",
        "            found = True  # Contact was found and updated\n",
        "            break  # Exit loop after updating\n",
        "\n",
        "    if  found  == 0:\n",
        "        print(\"Contact not found!\")\n"
      ]
    },
    {
      "cell_type": "code",
      "execution_count": null,
      "metadata": {
        "id": "hyt1SgD-q3lt",
        "colab": {
          "base_uri": "https://localhost:8080/"
        },
        "outputId": "e1016ecb-349b-4df1-d49d-a8497e4b1718"
      },
      "outputs": [
        {
          "output_type": "stream",
          "name": "stdout",
          "text": [
            "Current details:  {'name': 'ram', 'number': 123423, 'email': ''}\n",
            "Enter new name (or press Enter to keep the same): \n",
            "Enter new number (or press Enter to keep the same): \n",
            "Enter new email (or press Enter to keep the same): ram@gmail.com\n",
            "Updated contact {'name': 'ram', 'number': 123423, 'email': 'ram@gmail.com'}\n"
          ]
        }
      ],
      "source": [
        "update_contact(contacts,\"ram\")"
      ]
    },
    {
      "cell_type": "markdown",
      "metadata": {
        "id": "WXo91t2aq3lt"
      },
      "source": [
        "### Open Contact\n",
        "`open_contact` function takes the `contacts` list and a `name` string as input. It prints the contact details if `name` matches some contact name in the `contacts` list, else prints `No match found!`.\n",
        "\n",
        "**Note:** The functions should be case insensitive."
      ]
    },
    {
      "cell_type": "code",
      "execution_count": null,
      "metadata": {
        "id": "DNcgmd0mq3lu"
      },
      "outputs": [],
      "source": [
        "def open_contact(contacts, name):\n",
        "\n",
        "  found = 0\n",
        "\n",
        "  for contact in contacts:\n",
        "    if contact['name'] == name:\n",
        "      print(\"Contact details details: \", contact)\n",
        "      found = True\n",
        "\n",
        "  if  found  == 0:\n",
        "\n",
        "      print('not found')\n"
      ]
    },
    {
      "cell_type": "code",
      "execution_count": null,
      "metadata": {
        "id": "BqX3uq8Dq3lu",
        "colab": {
          "base_uri": "https://localhost:8080/"
        },
        "outputId": "55d52065-eaf8-4a9b-d068-55590c16a9b7"
      },
      "outputs": [
        {
          "output_type": "stream",
          "name": "stdout",
          "text": [
            "Enter the name :ketan\n",
            "Contact details details:  {'name': 'ketan', 'number': 9604663983, 'email': 'ketantalware@gmail.com'}\n"
          ]
        }
      ],
      "source": [
        "n = input('Enter the name :')\n",
        "open_contact(contacts, n)"
      ]
    },
    {
      "cell_type": "markdown",
      "metadata": {
        "id": "fgsk1xREq3lu"
      },
      "source": [
        "We often see *update* & *delete* options after we open a particular contact. It would be great if we can also implement the same.\n",
        "\n",
        "After opening the contact, the program should wait for user input. The user can press `u` to update & `d` delete contact. Any other key press should be ignored\n",
        "\n",
        "Write the updated `open_contact` function below"
      ]
    },
    {
      "cell_type": "code",
      "execution_count": null,
      "metadata": {
        "id": "VjAoccvWq3lu"
      },
      "outputs": [],
      "source": [
        "def opens_contact(contacts, name):\n",
        "\n",
        "  user_input = input('Enter d to delete or enter u to update :')\n",
        "  if user_input == 'd':\n",
        "    delete_contact(name)\n",
        "  elif user_input == 'u':\n",
        "    update_contact(contacts,name)\n",
        "  else:\n",
        "    print('invalid input')"
      ]
    },
    {
      "cell_type": "code",
      "execution_count": null,
      "metadata": {
        "id": "t1A--1Roq3lv",
        "colab": {
          "base_uri": "https://localhost:8080/"
        },
        "outputId": "d9eded84-9fbb-476e-ae52-bd31cccb2294"
      },
      "outputs": [
        {
          "output_type": "stream",
          "name": "stdout",
          "text": [
            "Enter the name: ketan\n",
            "Enter d to delete or enter u to update :u\n",
            "Current details:  {'name': 'ketan', 'number': 9604663983, 'email': 'ketantalware@gmail.com'}\n",
            "Enter new name (or press Enter to keep the same): ketu\n",
            "Enter new number (or press Enter to keep the same): \n",
            "Enter new email (or press Enter to keep the same): \n",
            "Updated contact {'name': 'ketu', 'number': 9604663983, 'email': 'ketantalware@gmail.com'}\n"
          ]
        }
      ],
      "source": [
        "n = input(\"Enter the name: \")\n",
        "opens_contact(contacts,n)"
      ]
    },
    {
      "cell_type": "code",
      "source": [
        "contacts"
      ],
      "metadata": {
        "colab": {
          "base_uri": "https://localhost:8080/"
        },
        "id": "-R-F26L7KghR",
        "outputId": "c656acad-0fc2-4cf4-da85-a62b73ca33c3"
      },
      "execution_count": null,
      "outputs": [
        {
          "output_type": "execute_result",
          "data": {
            "text/plain": [
              "[{'name': 'ketu', 'number': 9604663983, 'email': 'ketantalware@gmail.com'},\n",
              " {'name': 'ashvin', 'number': 123456789, 'email': 'ashivin@gmail.com'},\n",
              " {'name': 'aiadventure',\n",
              "  'number': 987654321,\n",
              "  'email': 'aiadventure@gmail.com'}]"
            ]
          },
          "metadata": {},
          "execution_count": 109
        }
      ]
    },
    {
      "cell_type": "markdown",
      "metadata": {
        "id": "OQCErj3jq3lv"
      },
      "source": [
        "### Complete application (using all the above functions in use)\n",
        "\n",
        "We will use an infinite loop to encapsulate our application logic and break only when `q` is pressed. We will use `clear_output()` function from `IPython.display` to clear the output before printing anything new.\n",
        "\n",
        "Below is the pseudo-code to help you build the application logic."
      ]
    },
    {
      "cell_type": "code",
      "execution_count": null,
      "metadata": {
        "id": "KMq24rAcq3lv",
        "colab": {
          "base_uri": "https://localhost:8080/"
        },
        "outputId": "c4991d22-a45a-49de-d62c-45ed704d92d0"
      },
      "outputs": [
        {
          "name": "stdout",
          "output_type": "stream",
          "text": [
            "[{'name': 'ketu', 'number': 9604663983, 'email': 'ketantalware@gmail.com'}, {'name': 'ashvin', 'number': 123456789, 'email': 'ashivin@gmail.com'}, {'name': 'aiadventure', 'number': 987654321, 'email': 'aiadventure@gmail.com'}, {'name': 'raj', 'number': 1234, 'email': 'raj@gmail.com'}, {'name': 'ram', 'number': 123423, 'email': ''}]\n",
            "Press 'a' - add contact, 'o' - open contact, 's' - search contact, 'q' - quit :q\n"
          ]
        }
      ],
      "source": [
        "from IPython.display import clear_output\n",
        "\n",
        "while True:\n",
        "\n",
        "  print(contacts)\n",
        "  action = input(\"Press 'a' - add contact, 'o' - open contact, 's' - search contact, 'q' - quit :\")\n",
        "  if action == 'a':\n",
        "    add_contact(contacts)\n",
        "        ## add contact\n",
        "  elif action == 'o':\n",
        "        name = input(\"Enter name of the contact you want to open. \")\n",
        "        open_contact(contacts, name)\n",
        "        ## open contact\n",
        "  elif action == 'q':\n",
        "    break\n",
        "        ## break\n",
        "  else:\n",
        "      print('Incorrect choise')\n",
        "        ## print incorrect choice"
      ]
    },
    {
      "cell_type": "code",
      "source": [
        "import csv\n",
        "\n",
        "# Save to a CSV file\n",
        "with open(\"contacts.csv\", \"w\", newline=\"\") as csv_file:\n",
        "\n",
        "    writer = csv.DictWriter(csv_file, fieldnames=fieldnames)\n",
        "    writer.writerows(contacts)  # Write data rows\n",
        "\n",
        "print(\"✅ List of dictionaries saved to contacts.csv\")"
      ],
      "metadata": {
        "colab": {
          "base_uri": "https://localhost:8080/"
        },
        "id": "Or9-ex2HyGEI",
        "outputId": "2211d4b1-6d95-4e5d-f29c-57b663848f08"
      },
      "execution_count": null,
      "outputs": [
        {
          "output_type": "stream",
          "name": "stdout",
          "text": [
            "✅ List of dictionaries saved to contacts.csv\n"
          ]
        }
      ]
    },
    {
      "cell_type": "code",
      "source": [
        "with open('/content/contacts.csv','r') as file:\n",
        "  a = file.read()\n",
        "  print(a)"
      ],
      "metadata": {
        "id": "kI7nJ533zeK7",
        "colab": {
          "base_uri": "https://localhost:8080/"
        },
        "outputId": "19f580f3-c7f8-4122-cb30-f73b6aef5f15"
      },
      "execution_count": null,
      "outputs": [
        {
          "output_type": "stream",
          "name": "stdout",
          "text": [
            "ketu,9604663983,ketantalware@gmail.com\n",
            "ashvin,123456789,ashivin@gmail.com\n",
            "aiadventure,987654321,aiadventure@gmail.com\n",
            "raj,1234,raj@gmail.com\n",
            "ram,123423,ram@gmail.com\n",
            "\n"
          ]
        }
      ]
    },
    {
      "cell_type": "markdown",
      "metadata": {
        "id": "mroc6kFwq3lw"
      },
      "source": [
        "## Using files\n",
        "\n",
        "One major problem with the above approach is \"persistent storage\". Every time you close this notebook, all the new contacts are lost. This happens because `contacts` is a python variable. Its lives inside python session. As soon as the session is killed/terminated, all the varibles are also deleted.\n",
        "\n",
        "To address this problem, we will have to use save the contacts in a disk. What better reason to use files? Instead of using *list of dictionary*, use file to save the contacts.\n",
        "\n",
        "Save every new contact in a new-line and use \" , \" to separate the contact fields. This is how the above contacts should look, when saved in a file.\n",
        "\n",
        "```text\n",
        "vivek, vivek@gmail.com, 9921668254\n",
        "ankur, ankur@gmail.com, 8806807004\n",
        "pranav, pranav@gmail.com, 987654321\n",
        "```\n",
        "\n",
        "You task is to make appropriate changes to the above code to use `contacts.txt` instead of using `contacts` list."
      ]
    },
    {
      "cell_type": "markdown",
      "metadata": {
        "id": "ANhbNG-Fq3lw"
      },
      "source": [
        "## Using Regex\n",
        "\n",
        "Yet another problem with our app is \"lack of validation\". While creating a new contact, user is free to enter anything. But why is that a problem?\n",
        "\n",
        "**Input validation** is important to ensure only properly formed data is entering the workflow in an information system, preventing malformed data from persisting in the database and triggering malfunction of various downstream components. Input validation should happen as early as possible in the data flow, preferably as soon as the data is received. [source](https://cheatsheetseries.owasp.org/cheatsheets/Input_Validation_Cheat_Sheet.html)\n",
        "\n",
        "The above paragraph is the complete gist of Input validation. Read it again & ponder for a minute. Its an important concept when building customer facing applications. We would highly recommend you to Google and read more about it.  \n",
        "\n",
        "Use regular expression to validate user input (before you save it to the file). Implement the following:\n",
        "- `Name` should be all alphabets. \" \" should also be allowed.\n",
        "- For `email` refer regex chapter from course material.\n",
        "- `Number` should have 10 digits. Not less, not more. Also, not alphabets should be allowed.\n",
        "- Add a new field `DOB` to each contact. It should follow YYYY-MM-DD format. Then write a regular expression to validate it. Remember, date & month cannot be greater that 31 & 12, respectively.\n",
        "\n",
        "Can you think of any more validations?"
      ]
    },
    {
      "cell_type": "markdown",
      "metadata": {
        "id": "a9TeqhMkq3lw"
      },
      "source": [
        "We really hope you had a wonderful time building this applications. This is how applications are developed in really life. You start with a set of basic functionalities and then you keep adding new features (like persistent storage & validation). As the application grows in size, you might encounter new problems to solve."
      ]
    }
  ],
  "metadata": {
    "kernelspec": {
      "display_name": "Python 3",
      "language": "python",
      "name": "python3"
    },
    "language_info": {
      "codemirror_mode": {
        "name": "ipython",
        "version": 3
      },
      "file_extension": ".py",
      "mimetype": "text/x-python",
      "name": "python",
      "nbconvert_exporter": "python",
      "pygments_lexer": "ipython3",
      "version": "3.7.4"
    },
    "toc": {
      "base_numbering": 1,
      "nav_menu": {},
      "number_sections": true,
      "sideBar": true,
      "skip_h1_title": false,
      "title_cell": "Table of Contents",
      "title_sidebar": "Contents",
      "toc_cell": false,
      "toc_position": {},
      "toc_section_display": true,
      "toc_window_display": false
    },
    "colab": {
      "provenance": [],
      "include_colab_link": true
    }
  },
  "nbformat": 4,
  "nbformat_minor": 0
}